{
 "cells": [
  {
   "cell_type": "code",
   "execution_count": 1,
   "metadata": {},
   "outputs": [],
   "source": [
    "import pandas as pd\n",
    "import numpy as np\n",
    "import matplotlib.pyplot as plt\n",
    "## For parametric fitting\n",
    "from scipy.optimize import curve_fit\n"
   ]
  },
  {
   "cell_type": "code",
   "execution_count": 2,
   "metadata": {},
   "outputs": [
    {
     "data": {
      "text/html": [
       "<div>\n",
       "<style scoped>\n",
       "    .dataframe tbody tr th:only-of-type {\n",
       "        vertical-align: middle;\n",
       "    }\n",
       "\n",
       "    .dataframe tbody tr th {\n",
       "        vertical-align: top;\n",
       "    }\n",
       "\n",
       "    .dataframe thead th {\n",
       "        text-align: right;\n",
       "    }\n",
       "</style>\n",
       "<table border=\"1\" class=\"dataframe\">\n",
       "  <thead>\n",
       "    <tr style=\"text-align: right;\">\n",
       "      <th></th>\n",
       "      <th>Province/State</th>\n",
       "      <th>Country/Region</th>\n",
       "      <th>Lat</th>\n",
       "      <th>Long</th>\n",
       "      <th>1/22/20</th>\n",
       "      <th>1/23/20</th>\n",
       "      <th>1/24/20</th>\n",
       "      <th>1/25/20</th>\n",
       "      <th>1/26/20</th>\n",
       "      <th>1/27/20</th>\n",
       "      <th>...</th>\n",
       "      <th>4/23/21</th>\n",
       "      <th>4/24/21</th>\n",
       "      <th>4/25/21</th>\n",
       "      <th>4/26/21</th>\n",
       "      <th>4/27/21</th>\n",
       "      <th>4/28/21</th>\n",
       "      <th>4/29/21</th>\n",
       "      <th>4/30/21</th>\n",
       "      <th>05-01-2021</th>\n",
       "      <th>05-02-2021</th>\n",
       "    </tr>\n",
       "  </thead>\n",
       "  <tbody>\n",
       "    <tr>\n",
       "      <th>0</th>\n",
       "      <td>NaN</td>\n",
       "      <td>Afghanistan</td>\n",
       "      <td>33.93911</td>\n",
       "      <td>67.709953</td>\n",
       "      <td>0</td>\n",
       "      <td>0</td>\n",
       "      <td>0</td>\n",
       "      <td>0</td>\n",
       "      <td>0</td>\n",
       "      <td>0</td>\n",
       "      <td>...</td>\n",
       "      <td>58542</td>\n",
       "      <td>58730</td>\n",
       "      <td>58843</td>\n",
       "      <td>59015</td>\n",
       "      <td>59225</td>\n",
       "      <td>59370</td>\n",
       "      <td>59576</td>\n",
       "      <td>59745</td>\n",
       "      <td>59939</td>\n",
       "      <td>60122</td>\n",
       "    </tr>\n",
       "    <tr>\n",
       "      <th>1</th>\n",
       "      <td>NaN</td>\n",
       "      <td>Albania</td>\n",
       "      <td>41.15330</td>\n",
       "      <td>20.168300</td>\n",
       "      <td>0</td>\n",
       "      <td>0</td>\n",
       "      <td>0</td>\n",
       "      <td>0</td>\n",
       "      <td>0</td>\n",
       "      <td>0</td>\n",
       "      <td>...</td>\n",
       "      <td>130270</td>\n",
       "      <td>130409</td>\n",
       "      <td>130537</td>\n",
       "      <td>130606</td>\n",
       "      <td>130736</td>\n",
       "      <td>130859</td>\n",
       "      <td>130977</td>\n",
       "      <td>131085</td>\n",
       "      <td>131185</td>\n",
       "      <td>131238</td>\n",
       "    </tr>\n",
       "    <tr>\n",
       "      <th>2</th>\n",
       "      <td>NaN</td>\n",
       "      <td>Algeria</td>\n",
       "      <td>28.03390</td>\n",
       "      <td>1.659600</td>\n",
       "      <td>0</td>\n",
       "      <td>0</td>\n",
       "      <td>0</td>\n",
       "      <td>0</td>\n",
       "      <td>0</td>\n",
       "      <td>0</td>\n",
       "      <td>...</td>\n",
       "      <td>120562</td>\n",
       "      <td>120736</td>\n",
       "      <td>120922</td>\n",
       "      <td>121112</td>\n",
       "      <td>121344</td>\n",
       "      <td>121580</td>\n",
       "      <td>121866</td>\n",
       "      <td>122108</td>\n",
       "      <td>122311</td>\n",
       "      <td>122522</td>\n",
       "    </tr>\n",
       "    <tr>\n",
       "      <th>3</th>\n",
       "      <td>NaN</td>\n",
       "      <td>Andorra</td>\n",
       "      <td>42.50630</td>\n",
       "      <td>1.521800</td>\n",
       "      <td>0</td>\n",
       "      <td>0</td>\n",
       "      <td>0</td>\n",
       "      <td>0</td>\n",
       "      <td>0</td>\n",
       "      <td>0</td>\n",
       "      <td>...</td>\n",
       "      <td>13007</td>\n",
       "      <td>13024</td>\n",
       "      <td>13060</td>\n",
       "      <td>13083</td>\n",
       "      <td>13121</td>\n",
       "      <td>13148</td>\n",
       "      <td>13198</td>\n",
       "      <td>13232</td>\n",
       "      <td>13232</td>\n",
       "      <td>13282</td>\n",
       "    </tr>\n",
       "    <tr>\n",
       "      <th>4</th>\n",
       "      <td>NaN</td>\n",
       "      <td>Angola</td>\n",
       "      <td>-11.20270</td>\n",
       "      <td>17.873900</td>\n",
       "      <td>0</td>\n",
       "      <td>0</td>\n",
       "      <td>0</td>\n",
       "      <td>0</td>\n",
       "      <td>0</td>\n",
       "      <td>0</td>\n",
       "      <td>...</td>\n",
       "      <td>25279</td>\n",
       "      <td>25492</td>\n",
       "      <td>25609</td>\n",
       "      <td>25710</td>\n",
       "      <td>25942</td>\n",
       "      <td>26168</td>\n",
       "      <td>26431</td>\n",
       "      <td>26652</td>\n",
       "      <td>26815</td>\n",
       "      <td>26993</td>\n",
       "    </tr>\n",
       "  </tbody>\n",
       "</table>\n",
       "<p>5 rows × 471 columns</p>\n",
       "</div>"
      ],
      "text/plain": [
       "  Province/State Country/Region       Lat       Long  1/22/20  1/23/20  \\\n",
       "0            NaN    Afghanistan  33.93911  67.709953        0        0   \n",
       "1            NaN        Albania  41.15330  20.168300        0        0   \n",
       "2            NaN        Algeria  28.03390   1.659600        0        0   \n",
       "3            NaN        Andorra  42.50630   1.521800        0        0   \n",
       "4            NaN         Angola -11.20270  17.873900        0        0   \n",
       "\n",
       "   1/24/20  1/25/20  1/26/20  1/27/20  ...  4/23/21  4/24/21  4/25/21  \\\n",
       "0        0        0        0        0  ...    58542    58730    58843   \n",
       "1        0        0        0        0  ...   130270   130409   130537   \n",
       "2        0        0        0        0  ...   120562   120736   120922   \n",
       "3        0        0        0        0  ...    13007    13024    13060   \n",
       "4        0        0        0        0  ...    25279    25492    25609   \n",
       "\n",
       "   4/26/21  4/27/21  4/28/21  4/29/21  4/30/21  05-01-2021  05-02-2021  \n",
       "0    59015    59225    59370    59576    59745       59939       60122  \n",
       "1   130606   130736   130859   130977   131085      131185      131238  \n",
       "2   121112   121344   121580   121866   122108      122311      122522  \n",
       "3    13083    13121    13148    13198    13232       13232       13282  \n",
       "4    25710    25942    26168    26431    26652       26815       26993  \n",
       "\n",
       "[5 rows x 471 columns]"
      ]
     },
     "execution_count": 2,
     "metadata": {},
     "output_type": "execute_result"
    }
   ],
   "source": [
    "dtf = pd.read_csv(\"time_series_covid_19_confirmed.csv\", sep=\",\")\n",
    "dtf.head()"
   ]
  },
  {
   "cell_type": "code",
   "execution_count": 3,
   "metadata": {},
   "outputs": [
    {
     "data": {
      "text/html": [
       "<div>\n",
       "<style scoped>\n",
       "    .dataframe tbody tr th:only-of-type {\n",
       "        vertical-align: middle;\n",
       "    }\n",
       "\n",
       "    .dataframe tbody tr th {\n",
       "        vertical-align: top;\n",
       "    }\n",
       "\n",
       "    .dataframe thead th {\n",
       "        text-align: right;\n",
       "    }\n",
       "</style>\n",
       "<table border=\"1\" class=\"dataframe\">\n",
       "  <thead>\n",
       "    <tr style=\"text-align: right;\">\n",
       "      <th></th>\n",
       "      <th>total</th>\n",
       "      <th>new</th>\n",
       "    </tr>\n",
       "  </thead>\n",
       "  <tbody>\n",
       "    <tr>\n",
       "      <th>2020-01-22</th>\n",
       "      <td>0</td>\n",
       "      <td>0.0</td>\n",
       "    </tr>\n",
       "    <tr>\n",
       "      <th>2020-01-23</th>\n",
       "      <td>0</td>\n",
       "      <td>0.0</td>\n",
       "    </tr>\n",
       "    <tr>\n",
       "      <th>2020-01-24</th>\n",
       "      <td>0</td>\n",
       "      <td>0.0</td>\n",
       "    </tr>\n",
       "    <tr>\n",
       "      <th>2020-01-25</th>\n",
       "      <td>0</td>\n",
       "      <td>0.0</td>\n",
       "    </tr>\n",
       "    <tr>\n",
       "      <th>2020-01-26</th>\n",
       "      <td>0</td>\n",
       "      <td>0.0</td>\n",
       "    </tr>\n",
       "  </tbody>\n",
       "</table>\n",
       "</div>"
      ],
      "text/plain": [
       "            total  new\n",
       "2020-01-22      0  0.0\n",
       "2020-01-23      0  0.0\n",
       "2020-01-24      0  0.0\n",
       "2020-01-25      0  0.0\n",
       "2020-01-26      0  0.0"
      ]
     },
     "execution_count": 3,
     "metadata": {},
     "output_type": "execute_result"
    }
   ],
   "source": [
    "## group by country, sum and transpose\n",
    "dtf = dtf.drop(['Province/State','Lat','Long'], axis=1).groupby(\"Country/Region\").sum().T\n",
    "\n",
    "## convert index to datetime\n",
    "dtf.index = pd.to_datetime(dtf.index, infer_datetime_format=True)\n",
    "\n",
    "## create total cases column\n",
    "dtf = pd.DataFrame(index=dtf.index, data=dtf[\"India\"].values, columns=[\"total\"])\n",
    "## create new cases column\n",
    "dtf[\"new\"] = dtf[\"total\"] - dtf[\"total\"].shift(1)\n",
    "dtf[\"new\"] = dtf[\"new\"].fillna(method='bfill')\n",
    "dtf.head()"
   ]
  },
  {
   "cell_type": "code",
   "execution_count": 5,
   "metadata": {},
   "outputs": [
    {
     "data": {
      "text/html": [
       "<div>\n",
       "<style scoped>\n",
       "    .dataframe tbody tr th:only-of-type {\n",
       "        vertical-align: middle;\n",
       "    }\n",
       "\n",
       "    .dataframe tbody tr th {\n",
       "        vertical-align: top;\n",
       "    }\n",
       "\n",
       "    .dataframe thead th {\n",
       "        text-align: right;\n",
       "    }\n",
       "</style>\n",
       "<table border=\"1\" class=\"dataframe\">\n",
       "  <thead>\n",
       "    <tr style=\"text-align: right;\">\n",
       "      <th></th>\n",
       "      <th>total</th>\n",
       "      <th>new</th>\n",
       "    </tr>\n",
       "  </thead>\n",
       "  <tbody>\n",
       "    <tr>\n",
       "      <th>2021-04-28</th>\n",
       "      <td>18376421</td>\n",
       "      <td>379308.0</td>\n",
       "    </tr>\n",
       "    <tr>\n",
       "      <th>2021-04-29</th>\n",
       "      <td>18762976</td>\n",
       "      <td>386555.0</td>\n",
       "    </tr>\n",
       "    <tr>\n",
       "      <th>2021-04-30</th>\n",
       "      <td>19164969</td>\n",
       "      <td>401993.0</td>\n",
       "    </tr>\n",
       "    <tr>\n",
       "      <th>2021-05-01</th>\n",
       "      <td>19557457</td>\n",
       "      <td>392488.0</td>\n",
       "    </tr>\n",
       "    <tr>\n",
       "      <th>2021-05-02</th>\n",
       "      <td>19557457</td>\n",
       "      <td>0.0</td>\n",
       "    </tr>\n",
       "  </tbody>\n",
       "</table>\n",
       "</div>"
      ],
      "text/plain": [
       "               total       new\n",
       "2021-04-28  18376421  379308.0\n",
       "2021-04-29  18762976  386555.0\n",
       "2021-04-30  19164969  401993.0\n",
       "2021-05-01  19557457  392488.0\n",
       "2021-05-02  19557457       0.0"
      ]
     },
     "execution_count": 5,
     "metadata": {},
     "output_type": "execute_result"
    }
   ],
   "source": [
    "dtf.tail()"
   ]
  },
  {
   "cell_type": "code",
   "execution_count": 6,
   "metadata": {},
   "outputs": [],
   "source": [
    "'''\n",
    "Linear function: f(x) = a + b*x\n",
    "'''\n",
    "def f(x):\n",
    "    return 10 + 25000*x\n",
    "\n",
    "y_linear = f(x=np.arange(len(dtf)))\n",
    "'''\n",
    "Exponential function: f(x) = a + b^x\n",
    "'''\n",
    "def f(x):\n",
    "    return 10 + 1.18**x\n",
    "\n",
    "y_exponential = f(x=np.arange(len(dtf)))\n",
    "'''\n",
    "Logistic function: f(x) = a / (1 + e^(-b*(x-c)))\n",
    "'''\n",
    "def f(x): \n",
    "    return 90000 / (1 + np.exp(-0.5*(x-20)))\n",
    "\n",
    "y_logistic = f(x=np.arange(len(dtf)))"
   ]
  },
  {
   "cell_type": "code",
   "execution_count": 7,
   "metadata": {},
   "outputs": [
    {
     "data": {
      "image/png": "[encoded data removed]",
      "text/plain": [
       "<Figure size 936x360 with 1 Axes>"
      ]
     },
     "metadata": {
      "needs_background": "light"
     },
     "output_type": "display_data"
    }
   ],
   "source": [
    "fig, ax = plt.subplots(figsize=(13,5))\n",
    "ax.scatter(dtf[\"total\"].index, dtf[\"total\"].values, color=\"black\")\n",
    "ax.plot(dtf[\"total\"].index, y_linear, label=\"linear\", color=\"red\")\n",
    "ax.plot(dtf[\"total\"].index, y_exponential, label=\"exponential\", color=\"green\")\n",
    "ax.plot(dtf[\"total\"].index, y_logistic, label=\"logistic\", color=\"blue\")\n",
    "ax.legend()\n",
    "plt.show()"
   ]
  },
  {
   "cell_type": "code",
   "execution_count": 4,
   "metadata": {},
   "outputs": [],
   "source": [
    "def f(x):\n",
    "    return 6000 * np.exp(-0.5 * ((x-60)/6)**2)\n",
    "\n",
    "y_gaussian = f(x=np.arange(len(dtf)))"
   ]
  },
  {
   "cell_type": "code",
   "execution_count": 5,
   "metadata": {
    "scrolled": true
   },
   "outputs": [
    {
     "data": {
      "image/png": "[encoded data removed]",
      "text/plain": [
       "<Figure size 936x360 with 1 Axes>"
      ]
     },
     "metadata": {
      "needs_background": "light"
     },
     "output_type": "display_data"
    }
   ],
   "source": [
    "fig, ax = plt.subplots(figsize=(13,5))\n",
    "ax.bar(dtf[\"new\"].index, dtf[\"new\"].values, color=\"black\")\n",
    "ax.plot(dtf[\"new\"].index, y_gaussian, color=\"red\")\n",
    "plt.show()"
   ]
  },
  {
   "cell_type": "code",
   "execution_count": 6,
   "metadata": {},
   "outputs": [],
   "source": [
    "'''\n",
    "Logistic function: f(x) = capacity / (1 + e^-k*(x - midpoint) )\n",
    "'''\n",
    "def logistic_f(X, c, k, m):\n",
    "    y = c / (1 + np.exp(-k*(X-m)))\n",
    "    return y\n",
    "## optimize from scipy\n",
    "X_l=np.arange(len(dtf[\"total\"]))\n",
    "y_l=dtf[\"total\"].values \n",
    "max_fev=500\n",
    "p0_l=[np.max(dtf[\"total\"]), 1, 1]\n",
    "\n",
    "logistic_model, cov_l = curve_fit(logistic_f, X_l, y_l, p0_l)"
   ]
  },
  {
   "cell_type": "code",
   "execution_count": 7,
   "metadata": {},
   "outputs": [
    {
     "name": "stderr",
     "output_type": "stream",
     "text": [
      "C:\\Users\\91944\\anaconda3\\lib\\site-packages\\scipy\\optimize\\minpack.py:828: OptimizeWarning: Covariance of the parameters could not be estimated\n",
      "  warnings.warn('Covariance of the parameters could not be estimated',\n"
     ]
    }
   ],
   "source": [
    "'''\n",
    "Gaussian function: f(x) = a * e^(-0.5 * ((x-μ)/σ)**2)\n",
    "'''\n",
    "def gaussian_f(X, a, b, c):\n",
    "    y = a * np.exp(-0.5 * ((X-b)/c)**2)\n",
    "    return y\n",
    "## optimize from scipy\n",
    "\n",
    "X=np.arange(len(dtf[\"new\"])) \n",
    "y=dtf[\"new\"].values \n",
    "maxfev=500\n",
    "p0=[1, np.mean(dtf[\"new\"]), 1]\n",
    "## print the parameters\n",
    "gaussian_model, cov = curve_fit(gaussian_f, X, y, p0)"
   ]
  },
  {
   "cell_type": "code",
   "execution_count": 8,
   "metadata": {},
   "outputs": [],
   "source": [
    "'''\n",
    "Plot parametric fitting.\n",
    "'''\n",
    "def utils_plot_parametric(dtf, zoom=30, figsize=(15,5)):\n",
    "    ## interval\n",
    "    dtf[\"residuals\"] = dtf[\"ts\"] - dtf[\"model\"]\n",
    "    dtf[\"conf_int_low\"] = dtf[\"forecast\"] - 1.96*dtf[\"residuals\"].std()\n",
    "    dtf[\"conf_int_up\"] = dtf[\"forecast\"] + 1.96*dtf[\"residuals\"].std()\n",
    "    fig, ax = plt.subplots(nrows=1, ncols=2, figsize=figsize)\n",
    "    \n",
    "    ## entire series\n",
    "    dtf[\"ts\"].plot(marker=\".\", linestyle='None', ax=ax[0], title=\"Parametric Fitting\", color=\"black\")\n",
    "    dtf[\"model\"].plot(ax=ax[0], color=\"green\")\n",
    "    dtf[\"forecast\"].plot(ax=ax[0], grid=True, color=\"red\")\n",
    "    ax[0].fill_between(x=dtf.index, y1=dtf['conf_int_low'], y2=dtf['conf_int_up'], color='b', alpha=0.3)\n",
    "   \n",
    "    ## focus on last\n",
    "    first_idx = dtf[pd.notnull(dtf[\"forecast\"])].index[0]\n",
    "    first_loc = dtf.index.tolist().index(first_idx)\n",
    "    zoom_idx = dtf.index[first_loc-zoom]\n",
    "    dtf.loc[zoom_idx:][\"ts\"].plot(marker=\".\", linestyle='None', ax=ax[1], color=\"black\", \n",
    "                                  title=\"Zoom on the last \"+str(zoom)+\" observations\")\n",
    "    dtf.loc[zoom_idx:][\"model\"].plot(ax=ax[1], color=\"green\")\n",
    "    dtf.loc[zoom_idx:][\"forecast\"].plot(ax=ax[1], grid=True, color=\"red\")\n",
    "    ax[1].fill_between(x=dtf.loc[zoom_idx:].index, y1=dtf.loc[zoom_idx:]['conf_int_low'], \n",
    "                       y2=dtf.loc[zoom_idx:]['conf_int_up'], color='b', alpha=0.3)\n",
    "    plt.show()\n",
    "    return dtf[[\"ts\",\"model\",\"residuals\",\"conf_int_low\",\"forecast\",\"conf_int_up\"]]"
   ]
  },
  {
   "cell_type": "code",
   "execution_count": 9,
   "metadata": {},
   "outputs": [],
   "source": [
    "'''\n",
    "Forecast unknown future.\n",
    ":parameter\n",
    "    :param ts: pandas series\n",
    "    :param f: function\n",
    "    :param model: list of optim params\n",
    "    :param pred_ahead: number of observations to forecast (ex. pred_ahead=30)\n",
    "    :param freq: None or str - 'B' business day, 'D' daily, 'W' weekly, 'M' monthly, 'A' annual, 'Q' quarterly\n",
    "    :param zoom: for plotting\n",
    "'''\n",
    "def forecast_curve(ts, f, model, start,  pred_ahead=60, freq=\"D\", zoom=30, figsize=(15,5)):\n",
    "    ## fit\n",
    "    X = np.arange(len(ts))\n",
    "    fitted = f(X, model[0], model[1], model[2])\n",
    "    dtf = ts.to_frame(name=\"ts\")\n",
    "    dtf[\"model\"] = fitted\n",
    "    \n",
    "    ## index\n",
    "    index = pd.date_range(start=start,periods=pred_ahead,freq=freq)\n",
    "    index = index[1:]\n",
    "    ## forecast\n",
    "    Xnew = np.arange(len(ts)+1, len(ts)+1+len(index))\n",
    "    preds = f(Xnew, model[0], model[1], model[2])\n",
    "    dtf = dtf.append(pd.DataFrame(data=preds, index=index, columns=[\"forecast\"]))\n",
    "    dtf.reset_index(level = 0, inplace = True)\n",
    "    ## plot\n",
    "    utils_plot_parametric(dtf, zoom=zoom)\n",
    "    return dtf\n"
   ]
  },
  {
   "cell_type": "code",
   "execution_count": 10,
   "metadata": {},
   "outputs": [],
   "source": [
    "from lmfit import model"
   ]
  },
  {
   "cell_type": "code",
   "execution_count": 11,
   "metadata": {
    "scrolled": true
   },
   "outputs": [
    {
     "data": {
      "image/png": "[encoded data removed]",
      "text/plain": [
       "<Figure size 1080x360 with 2 Axes>"
      ]
     },
     "metadata": {
      "needs_background": "light"
     },
     "output_type": "display_data"
    }
   ],
   "source": [
    "preds = forecast_curve(dtf[\"total\"], logistic_f, logistic_model, start='2021-12-28', pred_ahead=60, freq=\"D\", zoom=30, figsize=(15,5))"
   ]
  },
  {
   "cell_type": "code",
   "execution_count": 17,
   "metadata": {},
   "outputs": [
    {
     "data": {
      "image/png": "[encoded data removed]",
      "text/plain": [
       "<Figure size 1080x360 with 2 Axes>"
      ]
     },
     "metadata": {
      "needs_background": "light"
     },
     "output_type": "display_data"
    }
   ],
   "source": [
    "preds = forecast_curve(dtf[\"new\"], gaussian_f, gaussian_model, start='2021-12-28', pred_ahead=60, freq=\"D\", zoom=45, figsize=(15,5))"
   ]
  },
  {
   "cell_type": "code",
   "execution_count": null,
   "metadata": {},
   "outputs": [],
   "source": []
  }
 ],
 "metadata": {
  "kernelspec": {
   "display_name": "Python 3",
   "language": "python",
   "name": "python3"
  },
  "language_info": {
   "codemirror_mode": {
    "name": "ipython",
    "version": 3
   },
   "file_extension": ".py",
   "mimetype": "text/x-python",
   "name": "python",
   "nbconvert_exporter": "python",
   "pygments_lexer": "ipython3",
   "version": "3.8.5"
  }
 },
 "nbformat": 4,
 "nbformat_minor": 4
}
